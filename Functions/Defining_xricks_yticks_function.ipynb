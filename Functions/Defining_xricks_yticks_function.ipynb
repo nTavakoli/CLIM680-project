{
 "cells": [
  {
   "cell_type": "markdown",
   "id": "85e58716-dfeb-43ef-be99-77d82c663c62",
   "metadata": {},
   "source": [
    "#### Creating Function \n",
    "##### Defining the xticks for longitude\n",
    "##### Defining the yticks for latitude"
   ]
  },
  {
   "cell_type": "code",
   "execution_count": 1,
   "id": "b3463947-efd6-4702-b7d0-b2967f9e6b86",
   "metadata": {},
   "outputs": [],
   "source": [
    "def label_latlon(ax,lons,lats):\n",
    "    \"\"\" Add tick labels \"\"\"\n",
    "    # Define the xticks for longtitude\n",
    "    ax.set_xticks(lons,crs=ccrs.PlateCarree())\n",
    "    lon_formatter=cticker.LongitudeFormatter()\n",
    "    ax.xaxis.set_major_formatter(lon_formatter)\n",
    "\n",
    "    # Define ytick for latitude\n",
    "    ax.set_yticks(lats,crs=ccrs.PlateCarree())\n",
    "    lat_formatter=cticker.LatitudeFormatter()\n",
    "    ax.yaxis.set_major_formatter(lat_formatter)\n",
    "\n",
    "    return"
   ]
  }
 ],
 "metadata": {
  "kernelspec": {
   "display_name": "clim_data",
   "language": "python",
   "name": "clim_data"
  },
  "language_info": {
   "codemirror_mode": {
    "name": "ipython",
    "version": 3
   },
   "file_extension": ".py",
   "mimetype": "text/x-python",
   "name": "python",
   "nbconvert_exporter": "python",
   "pygments_lexer": "ipython3",
   "version": "3.10.4"
  }
 },
 "nbformat": 4,
 "nbformat_minor": 5
}
