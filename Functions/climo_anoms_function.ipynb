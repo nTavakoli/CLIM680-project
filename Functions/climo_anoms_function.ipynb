{
 "cells": [
  {
   "cell_type": "markdown",
   "id": "8d7668f8-860a-4243-8af5-d81b5f9bb76a",
   "metadata": {},
   "source": [
    "##### Function for climatology and anomalies"
   ]
  },
  {
   "cell_type": "code",
   "execution_count": null,
   "id": "b0c43693-61d7-425b-ab89-d4c65c1c57e9",
   "metadata": {},
   "outputs": [],
   "source": [
    "def climo(ds):\n",
    "    ds_climo = ds.groupby('time.month').mean(dim='time')\n",
    "    return ds_climo\n",
    "def anoms(ds):\n",
    "    ds_climo= ds.groupby('time.month').mean(dim='time')\n",
    "    ds_anoms = ds.groupby('time.month')-ds_climo\n",
    "    return ds_anoms"
   ]
  }
 ],
 "metadata": {
  "kernelspec": {
   "display_name": "clim_data",
   "language": "python",
   "name": "clim_data"
  },
  "language_info": {
   "codemirror_mode": {
    "name": "ipython",
    "version": 3
   },
   "file_extension": ".py",
   "mimetype": "text/x-python",
   "name": "python",
   "nbconvert_exporter": "python",
   "pygments_lexer": "ipython3",
   "version": "3.10.4"
  }
 },
 "nbformat": 4,
 "nbformat_minor": 5
}
